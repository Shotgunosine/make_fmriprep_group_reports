{
 "cells": [
  {
   "cell_type": "code",
   "execution_count": 1,
   "metadata": {},
   "outputs": [
    {
     "data": {
      "text/html": [
       "<style>#notebook { padding-top:0px !important; } .container { width:100% !important; } .end_space { min-height:0px !important; } </style>"
      ],
      "text/plain": [
       "<IPython.core.display.HTML object>"
      ]
     },
     "metadata": {},
     "output_type": "display_data"
    }
   ],
   "source": [
    "from pathlib import Path\n",
    "import shutil\n",
    "from bids import BIDSLayout\n",
    "import pandas as pd\n",
    "import numpy as np\n",
    "from io import StringIO\n",
    "import re\n",
    "import nibabel as nb\n",
    "from subprocess import run\n",
    "from collections import namedtuple\n",
    "import json\n",
    "import shutil\n",
    "\n",
    "# from office365.runtime.auth.authentication_context import AuthenticationContext\n",
    "# from office365.sharepoint.client_context import ClientContext\n",
    "# from office365.sharepoint.file import File \n",
    "# import getpass\n",
    "pd.set_option('display.max_rows', 500)\n",
    "pd.set_option('display.max_columns', 500)\n",
    "pd.set_option('display.max_colwidth', 500)\n",
    "pd.set_option('display.width', 1000)\n",
    "\n",
    "\n",
    "from joblib import parallel_backend, Parallel, delayed\n",
    "from IPython.core.display import display, HTML\n",
    "display(HTML(\"<style>\"\n",
    "    + \"#notebook { padding-top:0px !important; } \" \n",
    "    + \".container { width:100% !important; } \"\n",
    "    + \".end_space { min-height:0px !important; } \"\n",
    "    + \"</style>\"))\n",
    "\n",
    "from matplotlib import pyplot as plt\n",
    "import seaborn as sns\n",
    "%matplotlib inline"
   ]
  },
  {
   "cell_type": "code",
   "execution_count": 2,
   "metadata": {},
   "outputs": [],
   "source": [
    "project_root = Path('/data/MBDU/midla')\n",
    "bids_dir = project_root / 'data/bids'\n",
    "#new_bids_dir = Path('/data/MBDU/bids/mid_longitudinal_20190910')\n",
    "derivatives_dir = project_root / 'data/derivatives'\n",
    "swarm_cmd_dir = project_root / 'swarm/fmriprep/swarm_cmds'\n",
    "sing_img_dir = Path('/data/MBDU/singularity_images/')\n",
    "#image_path = (sing_img_dir/'fmriprep_1.4.1.simg').as_posix()\n",
    "#fs_licence_path = sing_img_dir/'license.txt'\n",
    "#assert fs_licence_path.exists()\n",
    "#fs_licence_path = fs_licence_path.as_posix()\n",
    "\n",
    "n_dummy = 4\n",
    "outlier_fraction_limit = 0.1\n",
    "fd_limit = 0.8\n",
    "n_jobs = 20"
   ]
  },
  {
   "cell_type": "code",
   "execution_count": 3,
   "metadata": {},
   "outputs": [],
   "source": [
    "# change this for other fmriprep runs\n",
    "run_name = 'fmriprepv20.1.0_20200528_2mm_clifix_noaroma'\n",
    "rest_run_name = 'fmriprepv20.1.0_20200528_2mm_clifix_noaroma'\n",
    "fmriprep_out = derivatives_dir / 'fmriprep' / run_name\n",
    "fmriprep_out_rest = derivatives_dir / 'fmriprep' / rest_run_name\n",
    "#cmd_file = swarm_cmd_dir / run_name\n",
    "#swarm_log_dir = project_root / ('swarm/fmriprep/swarm_logs' + run_name)\n"
   ]
  },
  {
   "cell_type": "code",
   "execution_count": 4,
   "metadata": {},
   "outputs": [
    {
     "name": "stdout",
     "output_type": "stream",
     "text": [
      "CPU times: user 24.6 ms, sys: 4.69 ms, total: 29.3 ms\n",
      "Wall time: 135 ms\n"
     ]
    }
   ],
   "source": [
    "assert (fmriprep_out / 'dataset_description.json').exists()\n",
    "database_file='/data/MBDU/midla/notebooks/pybids_fmriprepv20.1.0_20200528_2mm_clifix_noaroma'\n",
    "%time layout = BIDSLayout(bids_dir, database_file=database_file, derivatives=fmriprep_out.as_posix())"
   ]
  },
  {
   "cell_type": "code",
   "execution_count": 5,
   "metadata": {
    "scrolled": true
   },
   "outputs": [],
   "source": [
    "subjects = layout.get_subjects()"
   ]
  },
  {
   "cell_type": "code",
   "execution_count": 6,
   "metadata": {},
   "outputs": [],
   "source": [
    "dir_path = re.compile(\"dir-(?P<direction>[a-z]+)\")"
   ]
  },
  {
   "cell_type": "code",
   "execution_count": 7,
   "metadata": {
    "scrolled": true
   },
   "outputs": [],
   "source": [
    "def get_dims(img_path):\n",
    "    img_shape = nb.load(img_path.as_posix()).shape\n",
    "    if len(img_shape) == 3:\n",
    "        img_shape = list(img_shape) + [1]\n",
    "    return img_shape"
   ]
  },
  {
   "cell_type": "code",
   "execution_count": 8,
   "metadata": {},
   "outputs": [],
   "source": [
    "group = []\n",
    "for sid in subjects:\n",
    "    subj_out_dir = fmriprep_out / f'sub-{sid}'\n",
    "    row = {}\n",
    "    row['subject'] = sid\n",
    "    row['outpath'] = subj_out_dir\n",
    "    # Check to see if there's any output at all\n",
    "    row['contents'] = len(list(subj_out_dir.glob('*'))) > 0\n",
    "    row['fig_contents'] = len(list((subj_out_dir /f'out/fmriprep/sub-{sid}/figures/').glob('*'))) > 0\n",
    "    # check for any crash files\n",
    "    crash_files = sorted(list(subj_out_dir.glob('**/crash*')))\n",
    "    row['crash'] = len(crash_files) > 0\n",
    "    if len(crash_files) > 0:\n",
    "        row['crash_files'] = crash_files\n",
    "        nodes = []\n",
    "        for crash in crash_files:\n",
    "            cl = crash.read_text().split('\\n')\n",
    "            nodes.append(cl[0].replace(\"Node:\", \"\"))\n",
    "        row['crash_nodes'] = nodes\n",
    "    group.append(row)\n",
    "group = pd.DataFrame(group)"
   ]
  },
  {
   "cell_type": "code",
   "execution_count": 9,
   "metadata": {},
   "outputs": [],
   "source": [
    "# Would normally be 0, but in this case I know these don't have output\n",
    "#assert len(group.query('~contents')) == 0\n",
    "group['report_path'] = group.outpath.apply(lambda x: list(x.glob('out/fmriprep/sub*.html')))\n",
    "group.loc[group.report_path.apply(lambda x: x == []), 'report_path'] = np.nan\n",
    "group.loc[group.report_path.notnull(), 'report_path'] = group.loc[group.report_path.notnull(), 'report_path'].str[0]"
   ]
  },
  {
   "cell_type": "markdown",
   "metadata": {},
   "source": [
    "# Making a bids dataframe takes too long, going to do it with get\n"
   ]
  },
  {
   "cell_type": "code",
   "execution_count": 10,
   "metadata": {},
   "outputs": [
    {
     "name": "stdout",
     "output_type": "stream",
     "text": [
      "CPU times: user 31.3 s, sys: 668 ms, total: 32 s\n",
      "Wall time: 32 s\n",
      "CPU times: user 2min 2s, sys: 5.29 s, total: 2min 7s\n",
      "Wall time: 2min 8s\n",
      "CPU times: user 1min 18s, sys: 4.55 s, total: 1min 23s\n",
      "Wall time: 1min 23s\n"
     ]
    }
   ],
   "source": [
    "%time func_scans = layout.get(return_type='file', scope='raw', extension='nii.gz', task='mid', datatype='func')\n",
    "%time rest_scans = layout.get(return_type='file', scope='raw', extension='nii.gz', task='rest', datatype='func')\n",
    "%time anat_scans = layout.get(return_type='file', scope='raw', extension='nii.gz', datatype='anat')"
   ]
  },
  {
   "cell_type": "code",
   "execution_count": 11,
   "metadata": {},
   "outputs": [
    {
     "name": "stdout",
     "output_type": "stream",
     "text": [
      "CPU times: user 31.2 s, sys: 841 ms, total: 32.1 s\n",
      "Wall time: 32.1 s\n"
     ]
    }
   ],
   "source": [
    "%time func_scans = layout.get(return_type='file', scope='raw', extension='nii.gz', task='mid', datatype='func')"
   ]
  },
  {
   "cell_type": "code",
   "execution_count": 12,
   "metadata": {},
   "outputs": [],
   "source": [
    "bids_dat = []\n",
    "# Rest is still screwed up\n",
    "#for ff in rest_scans + func_scans + anat_scans:\n",
    "\n",
    "for ff in func_scans + anat_scans:\n",
    "    bd = layout.parse_file_entities(ff)\n",
    "    bd['path'] = ff\n",
    "    bids_dat.append(bd)\n",
    "bids_dat = pd.DataFrame(bids_dat)"
   ]
  },
  {
   "cell_type": "code",
   "execution_count": 13,
   "metadata": {},
   "outputs": [],
   "source": [
    "bids_qcr = bids_dat.merge(group.loc[:, ['subject', 'report_path']], how='left', on='subject')\n",
    "anat_rows = bids_qcr.query('datatype == \"anat\" & suffix == \"T1w\"').groupby('subject').first().reset_index()\n",
    "anat_rows['session'] = 'ALL'\n",
    "anat_rows['order'] = 0\n",
    "anat_rows['on_report'] = True"
   ]
  },
  {
   "cell_type": "code",
   "execution_count": 14,
   "metadata": {},
   "outputs": [],
   "source": [
    "hpat = re.compile('<div id=\"(?P<result>datatype-func_desc-summary[A-Za-z\\-_0-9]+)\"')\n",
    "sespat = re.compile('_session-(?P<res>[A-Z0-9a-z]+)_')\n",
    "taskpat = re.compile('_task-(?P<res>[A-Z0-9a-z]+)')\n",
    "runpat = re.compile('_run-(?P<res>[A-Z0-9a-z]+)')\n",
    "\n",
    "func_orders = []\n",
    "for ix, df in bids_qcr.groupby('report_path'):\n",
    "    break\n",
    "    func_report = []\n",
    "    i = 1\n",
    "    report = ix.read_text()\n",
    "    res = hpat.findall(report)\n",
    "    for rr in res:\n",
    "        fr = {}\n",
    "        fr['subject'] = df.subject.unique()[0]\n",
    "        fr['session'] = sespat.search(rr).group('res')\n",
    "        fr['task'] = taskpat.search(rr).group('res')\n",
    "        try:\n",
    "            fr['run'] = int(runpat.search(rr).group('res'))\n",
    "        except AttributeError:\n",
    "            pass\n",
    "        fr['order'] = i\n",
    "        i += 1\n",
    "        func_report.append(fr)\n",
    "    func_report = pd.DataFrame(func_report)\n",
    "    func_orders.append(func_report)"
   ]
  },
  {
   "cell_type": "code",
   "execution_count": 15,
   "metadata": {},
   "outputs": [],
   "source": [
    "func_report = []\n",
    "i = 1\n",
    "report = ix.read_text()\n",
    "res = hpat.findall(report)"
   ]
  },
  {
   "cell_type": "code",
   "execution_count": 16,
   "metadata": {},
   "outputs": [],
   "source": [
    "func_rows = bids_qcr.query('datatype != \"anat\"')"
   ]
  },
  {
   "cell_type": "markdown",
   "metadata": {},
   "source": [
    "# Try making a single section group report"
   ]
  },
  {
   "cell_type": "code",
   "execution_count": 17,
   "metadata": {},
   "outputs": [],
   "source": [
    "html_head = r\"\"\"<?xml version=\"1.0\" encoding=\"utf-8\" ?>\n",
    "<!DOCTYPE html PUBLIC \"-//W3C//DTD XHTML 1.0 Transitional//EN\" \"http://www.w3.org/TR/xhtml1/DTD/xhtml1-transitional.dtd\">\n",
    "<html xmlns=\"http://www.w3.org/1999/xhtml\" xml:lang=\"en\" lang=\"en\">\n",
    "<head>\n",
    "<meta http-equiv=\"Content-Type\" content=\"text/html; charset=utf-8\" />\n",
    "<meta name=\"generator\" content=\"Docutils 0.12: http://docutils.sourceforge.net/\" />\n",
    "<title></title>\n",
    "<script src=\"https://code.jquery.com/jquery-3.3.1.slim.min.js\" integrity=\"sha384-q8i/X+965DzO0rT7abK41JStQIAqVgRVzpbzo5smXKp4YfRvH+8abtTE1Pi6jizo\" crossorigin=\"anonymous\"></script>\n",
    "<script src=\"https://stackpath.bootstrapcdn.com/bootstrap/4.1.3/js/bootstrap.min.js\" integrity=\"sha384-ChfqqxuZUCnJSK3+MXmPNIyE6ZbWh2IMqE241rYiqJxyMiZ6OW/JmZQ5stwEULTy\" crossorigin=\"anonymous\"></script>\n",
    "<script type=\"text/javascript\">\n",
    "  var subjs = []\n",
    "  function updateCounts(){\n",
    "    var counts = {report:{\"-1\":0, \"1\":0, \"0\":0}}\n",
    "\n",
    "    subjs.forEach(function(val, idx, arr){\n",
    "      counts.report[val.report] += 1;\n",
    "    })\n",
    "\n",
    "    $(\"#nrpass\").text(counts.report[\"1\"])\n",
    "    $(\"#nrfail\").text(counts.report[\"0\"])\n",
    "    $(\"#nrtodo\").text(counts.report[\"-1\"])\n",
    "  }\n",
    "\n",
    "  function qc_update(run_id, stage, value) {\n",
    "    if (stage == 'report') {\n",
    "      subjs[run_id][stage] = parseInt(value)\n",
    "      updateCounts();\n",
    "    }\n",
    "    else {\n",
    "      subjs[run_id][stage] = value\n",
    "    }\n",
    "  }\n",
    "  \n",
    "  function update_all(stage, value) {\n",
    "    subjs.forEach( subj => {subj[stage]=value})\n",
    "  }\n",
    "\n",
    "  function get_csv(items) {\n",
    "    // https://stackoverflow.com/questions/44396943/generate-a-csv-file-from-a-javascript-array-of-objects\n",
    "    let csv = ''\n",
    "\n",
    "    // Loop the array of objects\n",
    "    for(let row = 0; row < items.length; row++){\n",
    "        let keysAmount = Object.keys(items[row]).length\n",
    "        let keysCounter = 0\n",
    "\n",
    "        // If this is the first row, generate the headings\n",
    "        if(row === 0){\n",
    "\n",
    "           // Loop each property of the object\n",
    "           for(let key in items[row]){\n",
    "\n",
    "              // This is to not add a comma at the last cell\n",
    "              // The '\\r\\n' adds a new line\n",
    "              csv += key + (keysCounter+1 < keysAmount ? ',' : '\\r\\n' )\n",
    "              keysCounter++\n",
    "           }\n",
    "           let keysCounterb = 0\n",
    "           for(let key in items[row]){\n",
    "               csv += items[row][key] + (keysCounterb+1 < keysAmount ? ',' : '\\r\\n' )\n",
    "               keysCounterb++\n",
    "           }\n",
    "        }else{\n",
    "           for(let key in items[row]){\n",
    "               csv += items[row][key] + (keysCounter+1 < keysAmount ? ',' : '\\r\\n' )\n",
    "               keysCounter++\n",
    "           }\n",
    "        }\n",
    "\n",
    "        keysCounter = 0\n",
    "    }\n",
    "\n",
    "    // Once we are done looping, download the .csv by creating a link\n",
    "    let link = document.createElement('a')\n",
    "    link.id = 'download-csv'\n",
    "    link.setAttribute('href', 'data:text/plain;charset=utf-8,' + encodeURIComponent(csv));\n",
    "    link.setAttribute('download', 'manual_qc.csv');\n",
    "    document.body.appendChild(link)\n",
    "    document.querySelector('#download-csv').click()\n",
    "  }\n",
    "  \n",
    "  function parse_id(idstr) {\n",
    "    return idstr.split('_')[0].split('-')[1]\n",
    "  }\n",
    "\n",
    "  var observer = new IntersectionObserver(function(entries, observer) {\n",
    "      entries.forEach(entry => {\n",
    "        eid = parse_id(entry.target.id)\n",
    "        if (entry['intersectionRatio'] == 1 && subjs[eid]['been_on_screen'] == false) {\n",
    "          subjs[eid]['been_on_screen'] = true\n",
    "        }\n",
    "        else if (entry['intersectionRatio'] == 0 && subjs[eid]['been_on_screen'] == true && subjs[eid]['report'] == -1) {\n",
    "          subjs[eid]['report'] = 1\n",
    "          observer.unobserve(entry.target)\n",
    "          updateCounts();\n",
    "          radioid = 'inlineRadio' + eid\n",
    "          document.querySelectorAll('[name=' + radioid + ']')[0].checked = true\n",
    "        }\n",
    "        /* Here's where we deal with every intersection */\n",
    "      });\n",
    "    }\n",
    "  , {root:document.querySelector('#scrollArea'), threshold:[0,1]});\n",
    "\n",
    " </script>\n",
    "<link rel=\"stylesheet\" href=\"https://stackpath.bootstrapcdn.com/bootstrap/4.1.3/css/bootstrap.min.css\" integrity=\"sha384-MCw98/SFnGE8fJT3GXwEOngsV7Zt27NXFoaoApmYm81iuXoPkFOJwJ8ERdknLPMO\" crossorigin=\"anonymous\">\n",
    "<style type=\"text/css\">\n",
    ".sub-report-title {}\n",
    ".run-title {}\n",
    "\n",
    "h1 { padding-top: 35px; }\n",
    "h2 { padding-top: 20px; }\n",
    "h3 { padding-top: 15px; }\n",
    "\n",
    ".elem-desc {}\n",
    ".elem-caption {\n",
    "    margin-top: 15px\n",
    "    margin-bottom: 0;\n",
    "}\n",
    ".elem-filename {}\n",
    "\n",
    "div.elem-image {\n",
    "  width: 100%;\n",
    "  page-break-before:always;\n",
    "}\n",
    "\n",
    ".elem-image object.svg-reportlet {\n",
    "    width: 100%;\n",
    "    padding-bottom: 5px;\n",
    "}\n",
    "body {\n",
    "    padding: 65px 10px 10px;\n",
    "}\n",
    "\n",
    ".boiler-html {\n",
    "    font-family: \"Bitstream Charter\", \"Georgia\", Times;\n",
    "    margin: 20px 25px;\n",
    "    padding: 10px;\n",
    "    background-color: #F8F9FA;\n",
    "}\n",
    "\n",
    "div#boilerplate pre {\n",
    "    margin: 20px 25px;\n",
    "    padding: 10px;\n",
    "    background-color: #F8F9FA;\n",
    "}\n",
    "\n",
    "</style>\n",
    "</head>\n",
    "<body>\"\"\"\n",
    "\n",
    "html_foot = \"\"\"<script type=\"text/javascript\">\n",
    "    function toggle(id) {\n",
    "        var element = document.getElementById(id);\n",
    "        if(element.style.display == 'block')\n",
    "            element.style.display = 'none';\n",
    "        else\n",
    "            element.style.display = 'block';\n",
    "    }\n",
    "\n",
    "</script>\n",
    "<script>\n",
    "\n",
    "updateCounts();\n",
    "document.querySelectorAll('[id^=\"id\"]').forEach(img => {observer.observe(img)})\n",
    "\n",
    "</script>\n",
    "</body>\n",
    "</html>\"\"\""
   ]
  },
  {
   "cell_type": "code",
   "execution_count": 18,
   "metadata": {},
   "outputs": [],
   "source": [
    "nav_head = \"\"\"<nav class=\"navbar fixed-top navbar-expand-lg navbar-light bg-light\">\n",
    "<div class=\"collapse navbar-collapse\">\n",
    "    <ul class=\"navbar-nav\">\n",
    "        <li class=\"nav-item dropdown\">\n",
    "            <a class=\"nav-link dropdown-toggle\" id=\"navbarFunctional\" data-toggle=\"dropdown\" aria-haspopup=\"true\" aria-expanded=\"false\" href=\"#\">Jump to Report</a>\n",
    "            <div class=\"dropdown-menu\" aria-labelledby=\"navbarFunctional\">\"\"\"\n",
    "nav_foot = \"\"\"            </div>\n",
    "        </li>\n",
    "      </ul>\n",
    "    </div>\n",
    "\n",
    "        <div class=\"navbar-header\">\n",
    "           Ratings: <span id=\"nrpass\" class=\"badge badge-success\">0</span> <span id=\"nrfail\" class=\"badge badge-danger\">0</span> <span id=\"nrtodo\" class=\"badge badge-warning\">0</span>\n",
    "         </div>\n",
    "         <div class=\"navbar-text\">\n",
    "           <button type=\"button\" class=\"btn btn-info btn-sm\" id=\"csv_download\" onclick=\"get_csv(subjs)\">Download CSV</button>\n",
    "\n",
    "         </div>\n",
    "</div>\n",
    "</nav>\"\"\""
   ]
  },
  {
   "cell_type": "code",
   "execution_count": 39,
   "metadata": {},
   "outputs": [],
   "source": [
    "def make_nav_entry(idx, subject,datatype,suffix, session=None, run=None, task=None, desc=None, space=None):\n",
    "    ses_href = ''\n",
    "    run_href = ''\n",
    "    task_href = ''\n",
    "    desc_href = ''\n",
    "    space_href = ''\n",
    "    ses_label = ''\n",
    "    run_label = ''\n",
    "    task_label = ''\n",
    "    desc_label = ''\n",
    "    space_label = ''\n",
    "    if session is not None:\n",
    "        ses_href = f'_session-{session}'\n",
    "        ses_label = f'session <span class=\"bids-entity\">{session}</span>'\n",
    "    if run is not None:\n",
    "        run_href = f'_run-{run}'\n",
    "        run_label = f', run <span class=\"bids-entity\">{run}</span>'\n",
    "    if task is not None:\n",
    "        task_href = f'_task-{task}'\n",
    "        task_label = f', task <span class=\"bids-entity\">{task}</span>'\n",
    "    if desc is not None:\n",
    "        desc_href = f'_desc-{desc}'\n",
    "    if space is not None:\n",
    "        space_href = f'_space-{space}'\n",
    "    nav_entry=f\"\"\"<a class=\"dropdown-item\" href=\"#id-{idx}_subject-{subject}_datatype-{datatype}{desc_href}{run_href}{ses_href}{space_href}_suffix-{suffix}{task_href}\">Subject <span class=\"bids-entity\">{subject}</span>{ses_label}{run_label}{task_label}.</a>\"\"\"\n",
    "    return nav_entry"
   ]
  },
  {
   "cell_type": "code",
   "execution_count": 20,
   "metadata": {},
   "outputs": [],
   "source": [
    "def make_brain_mask_blurb(subject, idx, chunk, session, run, task, echo=None, img_path=None):\n",
    "    echo_str = ''\n",
    "    if pd.notnull(echo):\n",
    "        echo_str =f'_echo-{echo}'\n",
    "    if img_path is None:\n",
    "        img_path = f'../sub-{subject}/out/fmriprep/sub-{subject}/figures'\n",
    "    blurb= f\"\"\"\n",
    "    <div id=\"id-{idx}_subject-{subject}_datatype-func_desc-rois_run-{run}_session-{session}_suffix-bold_task-{task}\">\n",
    "      <script type=\"text/javascript\">\n",
    "        var subj_qc = {{id:{idx},chunk:{chunk}, report_type: \"func_rois\", subject: \"{subject}\", session: \"{session}\", task: \"{task}\", run: \"{run}\",  report:null, been_on_screen:false}}\n",
    "      </script>\n",
    "      <h2> subject <span class=\"bids-entity\">{subject}</span>, session <span class=\"bids-entity\">{session}</span>, run <span class=\"bids-entity\">{run}</span> , task <span class=\"bids-entity\">{task}</span> </h2>\n",
    "      <div class=\"radio\">\n",
    "        <label><input type=\"radio\" name=\"inlineRadio{idx}\" id=\"inlineRating1\" value=\"1\" onclick=\"qc_update({idx}, 'report', this.value)\"> Good </label>\n",
    "        <label><input type=\"radio\" name=\"inlineRadio{idx}\" id=\"inlineRating0\" value=\"0\" onclick=\"qc_update({idx}, 'report', this.value)\"> Bad</label>\n",
    "      </div>\n",
    "      <p> Notes: <input type=\"text\" id=\"box{idx}\" oninput=\"qc_update({idx}, 'note', this.value)\"></p>\n",
    "<img class=\"svg-reportlet\" src=\"{img_path}/sub-{subject}_ses-{session}_task-{task}_run-{run}{echo_str}_desc-rois_bold.svg\" style=\"width: 100%\" />\n",
    "</div>\n",
    "  <script type=\"text/javascript\">\n",
    "    subj_qc[\"report\"] = -1\n",
    "    subjs.push(subj_qc)\n",
    "  </script>\"\"\"\n",
    "    return blurb\n",
    "\n",
    "def make_anat_reg_blurb(subject, idx, chunk, img_path=None):\n",
    "    if img_path is None:\n",
    "        img_path = f'../sub-{subject}/out/fmriprep/sub-{subject}/figures'\n",
    "    blurb= f\"\"\"\n",
    "    <div id=\"id-{idx}_subject-{subject}_datatype-anat_space-MNI152NLin2009cAsym_suffix-T1w\">\n",
    "      <script type=\"text/javascript\">\n",
    "        var subj_qc = {{id:{idx},chunk:{chunk}, report_type: \"anat_reg\", subject: \"{subject}\", session: null, task:null, run:null, report:null, been_on_screen:false}}\n",
    "      </script>\n",
    "    <h2> subject <span class=\"bids-entity\">{subject}</span></h2>\n",
    "    <div class=\"radio\">\n",
    "      <label><input type=\"radio\" name=\"inlineRadio{idx}\" id=\"inlineRating1\" value=\"1\" onclick=\"qc_update({idx}, 'report', this.value)\"> Good </label>\n",
    "      <label><input type=\"radio\" name=\"inlineRadio{idx}\" id=\"inlineRating0\" value=\"0\" onclick=\"qc_update({idx}, 'report', this.value)\"> Bad</label>\n",
    "    </div>\n",
    "     <p> Notes: <input type=\"text\" id=\"box{idx}\" oninput=\"qc_update({idx}, 'note', this.value)\"></p>\n",
    "    <p class=\"elem-caption\">Spatial normalization of the T1w image to the <code>MNI152NLin2009cAsym</code> template.</p>                    <object class=\"svg-reportlet\" type=\"image/svg+xml\" data=\"{img_path}/sub-{subject}_space-MNI152NLin2009cAsym_T1w.svg\">\n",
    "Problem loading figure sub-{subject}/figures/sub-{subject}_space-MNI152NLin2009cAsym_T1w.svg. If the link below works, please try reloading the report in your browser.</object>\n",
    "</div>\n",
    "<div class=\"elem-filename\">\n",
    "    Get figure file: <a href=\"{img_path}/sub-{subject}_space-MNI152NLin2009cAsym_T1w.svg\" target=\"_blank\">sub-{subject}/figures/sub-{subject}_space-MNI152NLin2009cAsym_T1w.svg</a>\n",
    "</div>\n",
    "  <script type=\"text/javascript\">\n",
    "    subj_qc[\"report\"] = -1\n",
    "    subjs.push(subj_qc)\n",
    "  </script>\"\"\"\n",
    "    return blurb\n",
    "\n",
    "def make_anat_surf_blurb(subject, idx, chunk, img_path=None):\n",
    "    if img_path is None:\n",
    "        img_path = f'../sub-{subject}/out/fmriprep/sub-{subject}/figures'\n",
    "    blurb= f\"\"\"\n",
    "            <div id=\"id-{idx}_subject-{subject}_datatype-anat_desc-reconall_suffix-T1w\">\n",
    "            <script type=\"text/javascript\">\n",
    "              var subj_qc = {{id:{idx},chunk:{chunk}, report_type: \"anat_surf\", subject: \"{subject}\", session: null, task:null, run:null, report:null, been_on_screen:false}}\n",
    "            </script>\n",
    "            <h2> subject <span class=\"bids-entity\">{subject}</span></h2>\n",
    "                \n",
    "<h3 class=\"run-title\">Surface reconstruction</h3><p class=\"elem-caption\">Surfaces (white and pial) reconstructed with FreeSurfer (<code>recon-all</code>) overlaid on the participant's T1w template.</p> \n",
    "<div class=\"radio\">\n",
    "      <label><input type=\"radio\" name=\"inlineRadio{idx}\" id=\"inlineRating1\" value=\"1\" onclick=\"qc_update({idx}, 'report', this.value)\"> Good </label>\n",
    "      <label><input type=\"radio\" name=\"inlineRadio{idx}\" id=\"inlineRating0\" value=\"0\" onclick=\"qc_update({idx}, 'report', this.value)\"> Bad</label>\n",
    "    </div>\n",
    "     <p> Notes: <input type=\"text\" id=\"box{idx}\" oninput=\"qc_update({idx}, 'note', this.value)\"></p>\n",
    "\n",
    "<img class=\"svg-reportlet\" src=\"{img_path}/sub-{subject}_desc-reconall_T1w.svg\" style=\"width: 100%\" />\n",
    "</div>\n",
    "<div class=\"elem-filename\">\n",
    "    Get figure file: <a href=\"{img_path}/sub-{subject}_desc-reconall_T1w.svg\" target=\"_blank\">sub-{subject}/figures/sub-{subject}_desc-reconall_T1w.svg</a>\n",
    "</div>\n",
    "<script type=\"text/javascript\">\n",
    "  subj_qc[\"report\"] = -1\n",
    "  subjs.push(subj_qc)\n",
    "</script>\"\"\"\n",
    "    return blurb"
   ]
  },
  {
   "cell_type": "code",
   "execution_count": 21,
   "metadata": {},
   "outputs": [
    {
     "name": "stderr",
     "output_type": "stream",
     "text": [
      "/gpfs/gsfs11/users/MBDU/midla/env/lib/python3.7/site-packages/ipykernel_launcher.py:1: SettingWithCopyWarning: \n",
      "A value is trying to be set on a copy of a slice from a DataFrame.\n",
      "Try using .loc[row_indexer,col_indexer] = value instead\n",
      "\n",
      "See the caveats in the documentation: http://pandas.pydata.org/pandas-docs/stable/indexing.html#indexing-view-versus-copy\n",
      "  \"\"\"Entry point for launching an IPython kernel.\n"
     ]
    }
   ],
   "source": [
    "func_rows['echo'] = np.nan"
   ]
  },
  {
   "cell_type": "code",
   "execution_count": 22,
   "metadata": {},
   "outputs": [],
   "source": [
    "# Number on each report page\n",
    "nchunks = 50"
   ]
  },
  {
   "cell_type": "code",
   "execution_count": 23,
   "metadata": {},
   "outputs": [
    {
     "name": "stderr",
     "output_type": "stream",
     "text": [
      "/gpfs/gsfs11/users/MBDU/midla/env/lib/python3.7/site-packages/pandas/core/ops.py:1649: FutureWarning: elementwise comparison failed; returning scalar instead, but in the future will perform elementwise comparison\n",
      "  result = method(y)\n"
     ]
    }
   ],
   "source": [
    "clean_funcs = func_rows.loc[(func_rows.echo == '1') | func_rows.echo.isnull()].sort_values([ 'subject','session','task', 'run']).reset_index(drop=True).reset_index().rename(columns={'index':'ind'})\n",
    "clean_funcs['report_chunk'] = clean_funcs.ind//nchunks"
   ]
  },
  {
   "cell_type": "code",
   "execution_count": 24,
   "metadata": {},
   "outputs": [],
   "source": [
    "dat_for_anat = clean_funcs.groupby('subject').first().reset_index().drop('ind', axis=1).reset_index().rename(columns={'index':'ind'})"
   ]
  },
  {
   "cell_type": "code",
   "execution_count": 25,
   "metadata": {},
   "outputs": [],
   "source": [
    "\n",
    "dat_for_anat['report_chunk'] = dat_for_anat.ind//nchunks"
   ]
  },
  {
   "cell_type": "code",
   "execution_count": 26,
   "metadata": {},
   "outputs": [
    {
     "data": {
      "text/plain": [
       "PosixPath('/data/MBDU/midla/data/derivatives/fmriprep/fmriprepv20.1.0_20200528_2mm_clifix_noaroma/single_item_reports_test2')"
      ]
     },
     "execution_count": 26,
     "metadata": {},
     "output_type": "execute_result"
    }
   ],
   "source": [
    "single_report_path = fmriprep_out / 'single_item_reports_test2'\n",
    "single_report_path"
   ]
  },
  {
   "cell_type": "code",
   "execution_count": 27,
   "metadata": {},
   "outputs": [],
   "source": [
    "reviewer_initials = \"\"\"\n",
    " <p> Initials: <input type=\"text\" id=\"initials_box\" oninput=\"update_all('rater', this.value)\"></p>\n",
    "\"\"\""
   ]
  },
  {
   "cell_type": "code",
   "execution_count": null,
   "metadata": {},
   "outputs": [],
   "source": [
    "anat_reg_n = 0\n",
    "single_report_path = fmriprep_out / 'single_item_reports_test2'\n",
    "if not single_report_path.exists():\n",
    "    single_report_path.mkdir()\n",
    "local_single_report_path = single_report_path / 'local_reports'\n",
    "if not local_single_report_path.exists():\n",
    "    local_single_report_path.mkdir()\n",
    "local_imgs_path = local_single_report_path / 'imgs'\n",
    "if not local_imgs_path.exists():\n",
    "    local_imgs_path.mkdir()"
   ]
  },
  {
   "cell_type": "code",
   "execution_count": 40,
   "metadata": {
    "scrolled": true
   },
   "outputs": [],
   "source": [
    "all_lines = []\n",
    "missing_rows = []\n",
    "for ii, df in dat_for_anat.groupby('report_chunk'):\n",
    "    df = df.copy()\n",
    "    df = df.reset_index(drop=True)\n",
    "    df = df.reset_index().rename(columns={'index':'idx'})\n",
    "    nav_entries = '\\n'.join(df.apply(lambda row: make_nav_entry(row.idx, row.subject, 'anat', 'T1w', space='MNI152NLin2009cAsym'), axis=1).values)\n",
    "    nav = '\\n'.join([nav_head, nav_entries, nav_foot])\n",
    "    \n",
    "    \n",
    "    local_reportlets = []\n",
    "    rpt_i = 0\n",
    "    for ix, row in df.iterrows():\n",
    "            \n",
    "        local_img_path = local_single_report_path / f'imgs/sub-{row.subject}_space-MNI152NLin2009cAsym_T1w.svg'\n",
    "        img_path = fmriprep_out / f'sub-{row.subject}/out/fmriprep/sub-{row.subject}/figures/sub-{row.subject}_space-MNI152NLin2009cAsym_T1w.svg'\n",
    "        if not img_path.exists():\n",
    "            missing_rows.append(row)\n",
    "            continue\n",
    "        rel_path = f'../../../sub-{row.subject}/out/fmriprep/sub-{row.subject}/figures/sub-{row.subject}_space-MNI152NLin2009cAsym_T1w.svg'\n",
    "        if not local_img_path.exists():\n",
    "            local_img_path.symlink_to(rel_path)\n",
    "        report_line =  make_anat_reg_blurb(row.subject, rpt_i, ii, img_path='./imgs')\n",
    "        if report_line not in all_lines:\n",
    "            local_reportlets.append(report_line)\n",
    "            all_lines.append(report_line)\n",
    "        rpt_i +=1\n",
    "            \n",
    "    reportlets = '\\n'.join(local_reportlets)\n",
    "\n",
    "    anat_reg_n += len(reportlets)\n",
    "    rpt_text = '\\n'.join([html_head,\n",
    "                          nav,\n",
    "                          reviewer_initials,\n",
    "                          reportlets,\n",
    "                          html_foot])\n",
    "    rpt_path = single_report_path / f'local_reports/anat_reg_{ii:03d}.html'\n",
    "    rpt_path.write_text(rpt_text)"
   ]
  },
  {
   "cell_type": "code",
   "execution_count": 41,
   "metadata": {
    "scrolled": false
   },
   "outputs": [],
   "source": [
    "anat_surf_n = 0\n",
    "\n",
    "for ii, df in dat_for_anat.groupby('report_chunk'):\n",
    "    df = df.copy()\n",
    "    df = df.reset_index(drop=True)\n",
    "    df = df.reset_index().rename(columns={'index':'idx'})\n",
    "    nav_entries = '\\n'.join(df.apply(lambda row: make_nav_entry(row.idx, row.subject, 'anat', 'T1w', desc='reconall'), axis=1).values)\n",
    "    nav = '\\n'.join([nav_head, nav_entries, nav_foot])\n",
    "    \n",
    "    \n",
    "    local_reportlets = []\n",
    "    rpt_i = 0\n",
    "    for ix, row in df.iterrows():\n",
    "            \n",
    "        local_img_path = local_single_report_path / f'imgs/sub-{row.subject}_desc-reconall_T1w.svg'\n",
    "        img_path = fmriprep_out / f'sub-{row.subject}/out/fmriprep/sub-{row.subject}/figures/sub-{row.subject}_desc-reconall_T1w.svg'\n",
    "        if not img_path.exists():\n",
    "            missing_rows.append(row)\n",
    "            continue\n",
    "        rel_path = f'../../../sub-{row.subject}/out/fmriprep/sub-{row.subject}/figures/sub-{row.subject}_desc-reconall_T1w.svg'\n",
    "        if not local_img_path.exists():\n",
    "            local_img_path.symlink_to(rel_path)\n",
    "        report_line =  make_anat_surf_blurb(row.subject, rpt_i, ii, img_path='./imgs')\n",
    "        if report_line not in all_lines:\n",
    "            local_reportlets.append(report_line)\n",
    "            all_lines.append(report_line)\n",
    "            rpt_i +=1\n",
    "            \n",
    "    reportlets = '\\n'.join(local_reportlets)\n",
    "\n",
    "    anat_surf_n += len(reportlets)\n",
    "    rpt_text = '\\n'.join([html_head,\n",
    "                          nav,\n",
    "                          reviewer_initials,\n",
    "                          reportlets,\n",
    "                          html_foot])\n",
    "    rpt_path = single_report_path / f'local_reports/anat_surf_{ii:03d}.html'\n",
    "    rpt_path.write_text(rpt_text)"
   ]
  },
  {
   "cell_type": "code",
   "execution_count": 42,
   "metadata": {},
   "outputs": [],
   "source": [
    "func_rois_n = 0\n",
    "for ii, df in clean_funcs.groupby('report_chunk'):\n",
    "    df = df.copy()\n",
    "    df = df.reset_index(drop=True)\n",
    "    df = df.reset_index().rename(columns={'index':'idx'})\n",
    "    nav_entries = '\\n'.join(df.apply(lambda row: make_nav_entry(row.idx, row.subject, 'func', 'bold', desc='rois', run=row.run, session=row.session, task=row.task), axis=1).values)\n",
    "    nav = '\\n'.join([nav_head, nav_entries, nav_foot])\n",
    "    \n",
    "    local_reportlets = []\n",
    "    rpt_i = 0\n",
    "    for ix, row in df.iterrows():\n",
    "        echo_str = ''\n",
    "        if pd.notnull(row.echo):\n",
    "            echo_str =f'_echo-{row.echo}'\n",
    "        local_img_path = local_single_report_path / f'imgs/sub-{row.subject}_ses-{row.session}_task-{row.task}_run-{row.run}{echo_str}_desc-rois_bold.svg'\n",
    "        img_path = fmriprep_out / f'sub-{row.subject}/out/fmriprep/sub-{row.subject}/figures/sub-{row.subject}_ses-{row.session}_task-{row.task}_run-{row.run}{echo_str}_desc-rois_bold.svg'\n",
    "        if not img_path.exists():\n",
    "            missing_rows.append(row)\n",
    "        rel_path = f'../../../sub-{row.subject}/out/fmriprep/sub-{row.subject}/figures/sub-{row.subject}_ses-{row.session}_task-{row.task}_run-{row.run}{echo_str}_desc-rois_bold.svg'\n",
    "        if not local_img_path.exists():\n",
    "            local_img_path.symlink_to(rel_path)\n",
    "        report_line =  make_brain_mask_blurb(row.subject, rpt_i, ii,\n",
    "                                             row.session,\n",
    "                                             row.run,\n",
    "                                             row.task,\n",
    "                                             row.echo,\n",
    "                                             img_path='./imgs')\n",
    "        if report_line not in all_lines:\n",
    "            local_reportlets.append(report_line)\n",
    "            all_lines.append(report_line)\n",
    "            rpt_i +=1\n",
    "        reportlets = '\\n'.join(local_reportlets)\n",
    "\n",
    "    func_rois_n += len(reportlets)\n",
    "    rpt_text = '\\n'.join([html_head,\n",
    "                          nav,\n",
    "                          reviewer_initials,\n",
    "                          reportlets,\n",
    "                          html_foot])\n",
    "    rpt_path = single_report_path / f'local_reports/func_rois_{ii:03d}.html'\n",
    "    rpt_path.write_text(rpt_text)"
   ]
  },
  {
   "cell_type": "code",
   "execution_count": null,
   "metadata": {},
   "outputs": [],
   "source": []
  }
 ],
 "metadata": {
  "kernelspec": {
   "display_name": "Python 3",
   "language": "python",
   "name": "python3"
  },
  "language_info": {
   "codemirror_mode": {
    "name": "ipython",
    "version": 3
   },
   "file_extension": ".py",
   "mimetype": "text/x-python",
   "name": "python",
   "nbconvert_exporter": "python",
   "pygments_lexer": "ipython3",
   "version": "3.7.6"
  }
 },
 "nbformat": 4,
 "nbformat_minor": 2
}
